{
  "nbformat": 4,
  "nbformat_minor": 0,
  "metadata": {
    "kernelspec": {
      "display_name": "Python 3",
      "language": "python",
      "name": "python3"
    },
    "language_info": {
      "codemirror_mode": {
        "name": "ipython",
        "version": 3
      },
      "file_extension": ".py",
      "mimetype": "text/x-python",
      "name": "python",
      "nbconvert_exporter": "python",
      "pygments_lexer": "ipython3",
      "version": "3.7.5"
    },
    "colab": {
      "name": "Python_Mandatory_Assignment (2).ipynb",
      "provenance": []
    }
  },
  "cells": [
    {
      "cell_type": "markdown",
      "metadata": {
        "id": "mCN2Sc2DXviE",
        "colab_type": "text"
      },
      "source": [
        "<h1>Python: without numpy or sklearn </h1>"
      ]
    },
    {
      "cell_type": "markdown",
      "metadata": {
        "id": "sZB2HI9_XviG",
        "colab_type": "text"
      },
      "source": [
        "<h3> Q1: Given two matrices please print the product of those two matrices </h3>\n",
        "<pre>\n",
        "\n",
        "Ex 1: A   = [[1 3 4]\n",
        "             [2 5 7]\n",
        "             [5 9 6]]\n",
        "      B   = [[1 0 0]\n",
        "             [0 1 0]\n",
        "             [0 0 1]]\n",
        "      A*B = [[1 3 4]\n",
        "             [2 5 7]\n",
        "             [5 9 6]]\n",
        "\n",
        "     \n",
        "Ex 2: A   = [[1 2]\n",
        "             [3 4]]\n",
        "      B   = [[1 2 3 4 5]\n",
        "             [5 6 7 8 9]]\n",
        "      A*B = [[11 14 17 20 23]\n",
        "             [18 24 30 36 42]]\n",
        "             \n",
        "Ex 3: A   = [[1 2]\n",
        "             [3 4]]\n",
        "      B   = [[1 4]\n",
        "             [5 6]\n",
        "             [7 8]\n",
        "             [9 6]]\n",
        "      A*B =Not possible\n",
        "</pre>"
      ]
    },
    {
      "cell_type": "code",
      "metadata": {
        "id": "oSZ1A1MNXviH",
        "colab_type": "code",
        "colab": {},
        "outputId": "d2e2a2e2-ea93-4e13-ae52-24a97a85ffa3"
      },
      "source": [
        "# write your python code here\n",
        "# you can take the above example as sample input for your program to test\n",
        "# it should work for any general input try not to hard code for only given input examples\n",
        "def matrix_mul(A, B):\n",
        "    # write your cod\n",
        "   R=[[0 for i in range(c2)] for j in range(r1)] \n",
        "   for i in range(r1):\n",
        "      for j in range(c2):\n",
        "         for k in range(c1):\n",
        "            R[i][j]+=A[i][k]*B[k][j]\n",
        "\n",
        "   print(\"Product of Matrices A and B: \")\n",
        "   for i in range(r1):\n",
        "      for j in range(c2):\n",
        "         print(R[i][j],end=\" \")\n",
        "      print()\n",
        "\n",
        "\n",
        "r1=int(input(\"input no of row1 = \"))\n",
        "c1=int(input(\"input no of col1 = \"))\n",
        "A=[[0 for i in range(c1)] for j in range(r1)] \n",
        "print(\"Enter Matrix value of A:\")\n",
        "for i in range(r1):\n",
        "    for j in range(c1):\n",
        "       A[i][j]=int(input(\"A[{}][{}] \".format(i,j)))\n",
        "\n",
        "\n",
        "r2=int(input(\"input no of row2 = \"))\n",
        "c2=int(input(\"input no of col2 = \"))\n",
        "B=[[0 for i in range(c2)] for j in range(r2)] \n",
        "print(\"Enter Matrix value of B:\")\n",
        "for i in range(r2):\n",
        "    for j in range(c2):\n",
        "       B[i][j]=int(input(\"B[{}][{}] \".format(i,j)))\n",
        "\n",
        "\n",
        "if(c1==r2):\n",
        "   matrix_mul(A, B)\n",
        "else:\n",
        "   print(\"multiplication not possible\")\n"
      ],
      "execution_count": 0,
      "outputs": [
        {
          "output_type": "stream",
          "text": [
            "input no of row1 =  2\n",
            "input no of col1 =  2\n"
          ],
          "name": "stdin"
        },
        {
          "output_type": "stream",
          "text": [
            "Enter Matrix value of A:\n"
          ],
          "name": "stdout"
        },
        {
          "output_type": "stream",
          "text": [
            "A[0][0]  1\n",
            "A[0][1]  2\n",
            "A[1][0]  3\n",
            "A[1][1]  4\n",
            "input no of row2 =  2\n",
            "input no of col2 =  5\n"
          ],
          "name": "stdin"
        },
        {
          "output_type": "stream",
          "text": [
            "Enter Matrix value of B:\n"
          ],
          "name": "stdout"
        },
        {
          "output_type": "stream",
          "text": [
            "B[0][0]  1\n",
            "B[0][1]  2\n",
            "B[0][2]  3\n",
            "B[0][3]  4\n",
            "B[0][4]  5\n",
            "B[1][0]  5\n",
            "B[1][1]  6\n",
            "B[1][2]  7\n",
            "B[1][3]  8\n",
            "B[1][4]  9\n"
          ],
          "name": "stdin"
        },
        {
          "output_type": "stream",
          "text": [
            "Product of Matrices A and B: \n",
            "11 14 17 20 23 \n",
            "23 30 37 44 51 \n"
          ],
          "name": "stdout"
        }
      ]
    },
    {
      "cell_type": "markdown",
      "metadata": {
        "id": "kvES15NOXviL",
        "colab_type": "text"
      },
      "source": [
        "<h3> Q2: Select a number randomly with probability proportional to its magnitude from the given array of n elements</h3>\n",
        "\n",
        "consider an experiment, selecting an element from the list A randomly with probability proportional to its magnitude.\n",
        "assume we are doing the same experiment for 100 times with replacement, in each experiment you will print a number that is selected randomly from A.\n",
        "\n",
        "<pre>\n",
        "Ex 1: A = [0 5 27 6 13 28 100 45 10 79]\n",
        "let f(x) denote the number of times x getting selected in 100 experiments.\n",
        "f(100) > f(79) > f(45) > f(28) > f(27) > f(13) > f(10) > f(6) > f(5) > f(0)\n",
        "</pre>"
      ]
    },
    {
      "cell_type": "code",
      "metadata": {
        "id": "V1_r_lBFXviM",
        "colab_type": "code",
        "colab": {},
        "outputId": "5c147d13-5cc3-43b5-d999-3d254e46c88d"
      },
      "source": [
        "from random import uniform\n",
        "# write your python code here\n",
        "# you can take the above example as sample input for your program to test\n",
        "# it should work for any general input try not to hard code for only given input examples\n",
        "import random\n",
        "from functools import reduce\n",
        "import pdb\n",
        "\n",
        "def pick_a_number_from_list(A):\n",
        "    cum_sum=0\n",
        "    cum_sum=[sum(A[:x+1]) for x in range(len(A))]\n",
        "    sum1=reduce(lambda x, y : x+y, A)\n",
        "    # pdb.set_trace()\n",
        "    rand = int(random.uniform(0,sum1))\n",
        "    number=0\n",
        "    for i in range(len(cum_sum)):\n",
        "        if(rand>=cum_sum[i] and rand<cum_sum[i+1]):\n",
        "            return A[i+1]\n",
        "    # pdb.set_trace()\n",
        "    return number\n",
        "\n",
        "def sampling_based_on_magnitued():\n",
        "   A=[]\n",
        "   n=int(input(\"enter the n: \\n\"))\n",
        "   for i in range(0,n):\n",
        "      ele=int(input(\"enter element {}\\n\".format(i)))\n",
        "      A.append(ele)\n",
        "    #A = [0,5,27,6,13,28,100,45,10,79]\n",
        "   res = dict()\n",
        "   for i in range(1,100):\n",
        "      number = pick_a_number_from_list(A)\n",
        "      if number not in res:\n",
        "         res[number] = 1\n",
        "      else:\n",
        "         res[number]+=1\n",
        "   print(res)\n",
        "# pdb.set_trace()\n",
        "sampling_based_on_magnitued()"
      ],
      "execution_count": 0,
      "outputs": [
        {
          "output_type": "stream",
          "text": [
            "enter the n: \n",
            " 10\n",
            "enter element 0\n",
            " 0\n",
            "enter element 1\n",
            " 5\n",
            "enter element 2\n",
            " 27\n",
            "enter element 3\n",
            " 6\n",
            "enter element 4\n",
            " 13\n",
            "enter element 5\n",
            " 28\n",
            "enter element 6\n",
            " 100\n",
            "enter element 7\n",
            " 45\n",
            "enter element 8\n",
            " 10\n",
            "enter element 9\n",
            " 79\n"
          ],
          "name": "stdin"
        },
        {
          "output_type": "stream",
          "text": [
            "{100: 35, 79: 23, 10: 4, 27: 14, 13: 3, 28: 8, 6: 4, 45: 8}\n"
          ],
          "name": "stdout"
        }
      ]
    },
    {
      "cell_type": "markdown",
      "metadata": {
        "id": "3assJr8aXviO",
        "colab_type": "text"
      },
      "source": [
        "<h3> Q3: Replace the digits in the string with #</h3>\n",
        "\n",
        "Consider a string that will have digits in that, we need to remove all the characters which are not digits and replace the digits with #\n",
        "<pre>\n",
        "Ex 1: A = 234                Output: ###\n",
        "Ex 2: A = a2b3c4             Output: ###\n",
        "Ex 3: A = abc                Output:   (empty string)\n",
        "Ex 5: A = #2a$#b%c%561#      Output: ####\n",
        "</pre>"
      ]
    },
    {
      "cell_type": "code",
      "metadata": {
        "id": "Cw9jEACiXviO",
        "colab_type": "code",
        "colab": {},
        "outputId": "f2d32aef-9ed6-494b-80cf-0d14946fb0c4"
      },
      "source": [
        "import re\n",
        "import string\n",
        "# write your python code here\n",
        "# you can take the above example as sample input for your program to test\n",
        "# it should work for any general input try not to hard code for only given input examples\n",
        "\n",
        "txt = input(\"enter string\")\n",
        "print('#'* len(re.sub('\\D', '', txt)))\n",
        "hash=''.join('#' for c in txt if c.isdigit())\n",
        "if '#' not in hash:\n",
        "   print(\"empty\")"
      ],
      "execution_count": 0,
      "outputs": [
        {
          "output_type": "stream",
          "text": [
            "enter string #2a$#b%c%561#\n"
          ],
          "name": "stdin"
        },
        {
          "output_type": "stream",
          "text": [
            "####\n"
          ],
          "name": "stdout"
        }
      ]
    },
    {
      "cell_type": "markdown",
      "metadata": {
        "id": "3Bgg7b3_XviQ",
        "colab_type": "text"
      },
      "source": [
        "<h3> Q4: Students marks dashboard</h3>\n",
        "\n",
        "Consider the marks list of class students given in two lists <br>\n",
        "Students = ['student1','student2','student3','student4','student5','student6','student7','student8','student9','student10'] <br>\n",
        "Marks = [45, 78, 12, 14, 48, 43, 45, 98, 35, 80] <br>\n",
        "from the above two lists the Student[0] got Marks[0],  Student[1] got Marks[1] and so on. <br><br>\n",
        "\n",
        "Your task is to print the name of students\n",
        "\n",
        "<strong>a. Who got top 5 ranks, in the descending order of marks</strong> <br>\n",
        "<strong>b. Who got least 5 ranks, in the increasing order of marks</strong><br>\n",
        "<strong>d. Who got marks between  &gt;25th percentile &lt;75th percentile, in the increasing order of marks.</strong>\n",
        "\n",
        "<pre>\n",
        "Ex 1: \n",
        "Students=['student1','student2','student3','student4','student5','student6','student7','student8','student9','student10'] \n",
        "Marks = [45, 78, 12, 14, 48, 43, 47, 98, 35, 80]\n",
        "\n",
        "a. \n",
        "student8  98\n",
        "student10 80\n",
        "student2  78\n",
        "student5  48\n",
        "student7  47\n",
        "\n",
        "b.\n",
        "student3 12\n",
        "student4 14\n",
        "student9 35\n",
        "student6 43\n",
        "student1 45\n",
        "\n",
        "c.\n",
        "student9 35\n",
        "student6 43\n",
        "student1 45\n",
        "student7 47\n",
        "student5 48\n",
        "</pre>"
      ]
    },
    {
      "cell_type": "code",
      "metadata": {
        "id": "4a-dWXvNXviR",
        "colab_type": "code",
        "colab": {},
        "outputId": "3d024469-3d6f-4f25-a3d9-9d2954f6a20a"
      },
      "source": [
        "# write your python code here\n",
        "# you can take the above example as sample input for your program to test\n",
        "# it should work for any general input try not to hard code for only given input examples\n",
        "students=['student1','student2','student3','student4','student5','student6','student7','student8','student9','student10'] \n",
        "marks = [45, 78,12, 14, 48, 43, 47, 98, 35, 80]\n",
        "temp=marks.copy()\n",
        "finalList1=[]\n",
        "finalList2=[]\n",
        "finalList3=[]\n",
        "print(\"\\n ======= Top Five Marks ======== \\n\")\n",
        "for i in range(0,5):\n",
        "   max=0\n",
        "   for j in range(len(temp)):\n",
        "      if temp[j]>max:\n",
        "         max=temp[j]\n",
        "   temp.remove(max)\n",
        "   finalList1.append(max)\n",
        "for k in finalList1:\n",
        "   print(students[marks.index(k)], k)\n",
        "\n",
        "print(\"\\n ========= Least Five Marks ======== \\n\")\n",
        "for i in range(0,5):\n",
        "   min=9999\n",
        "   for j in range(len(temp)):\n",
        "      if temp[j]<min:\n",
        "         min=temp[j]\n",
        "   temp.remove(min)\n",
        "   finalList2.append(min)\n",
        "for k in finalList2:\n",
        "   print(students[marks.index(k)], k)\n",
        "\n",
        "print(\"\\n ========== Precentile ========== \\n\")\n",
        "import math\n",
        "per_25 = math.ceil((25 / 100) * int(len(marks)))\n",
        "per_75 = math.ceil((75 / 100) * int(len(marks)))\n",
        "\n",
        "sorted_marks=sorted(marks)\n",
        "finalList3 = [i for i in marks if i >= sorted_marks[per_25-1] and i < sorted_marks[per_75-1]]\n",
        "for k in sorted(finalList3):\n",
        "   print(students[marks.index(k)], k)"
      ],
      "execution_count": 0,
      "outputs": [
        {
          "output_type": "stream",
          "text": [
            "\n",
            " ======= Top Five Marks ======== \n",
            "\n",
            "student8 98\n",
            "student10 80\n",
            "student2 78\n",
            "student5 48\n",
            "student7 47\n",
            "\n",
            " ========= Least Five Marks ======== \n",
            "\n",
            "student3 12\n",
            "student4 14\n",
            "student9 35\n",
            "student6 43\n",
            "student1 45\n",
            "\n",
            " ========== Precentile ========== \n",
            "\n",
            "student9 35\n",
            "student6 43\n",
            "student1 45\n",
            "student7 47\n",
            "student5 48\n"
          ],
          "name": "stdout"
        }
      ]
    },
    {
      "cell_type": "markdown",
      "metadata": {
        "id": "MeoEMboeXviS",
        "colab_type": "text"
      },
      "source": [
        "<h3> Q5: Find the closest points</h3>\n",
        "\n",
        "Consider you are given n data points in the form of list of tuples like S=[(x1,y1),(x2,y2),(x3,y3),(x4,y4),(x5,y5),..,(xn,yn)] and a point P=(p,q) <br> your task is to find 5 closest points(based on cosine distance) in S from P\n",
        "\n",
        "<br>Cosine distance between two points (x,y) and (p,q) is defined as $cos^{-1}(\\frac{(x\\cdot p+y\\cdot q)}{\\sqrt(x^2+y^2)\\cdot\\sqrt(p^2+q^2)})$\n",
        "<pre>\n",
        "Ex:\n",
        "\n",
        "S= [(1,2),(3,4),(-1,1),(6,-7),(0, 6),(-5,-8),(-1,-1)(6,0),(1,-1)]\n",
        "P= (3,-4)\n",
        "<img src='https://i.imgur.com/vIFPOcG.jpg', width=300>\n",
        "Output:\n",
        "(6,-7)\n",
        "(1,-1)\n",
        "(6,0)\n",
        "(-5,-8)\n",
        "(-1,-1)\n",
        "</pre>"
      ]
    },
    {
      "cell_type": "code",
      "metadata": {
        "id": "qH05MWMoXviT",
        "colab_type": "code",
        "colab": {},
        "outputId": "1ef67d03-5bc6-4df2-95d3-1534060a296f"
      },
      "source": [
        "import math\n",
        "\n",
        "# write your python code here\n",
        "# you can take the above example as sample input for your program to test\n",
        "# it should work for any general input try not to hard code for only given input examples\n",
        "# you can free to change all these codes/structure\n",
        "\n",
        "mylist=[]\n",
        "mylist1=[]\n",
        "num=int(input(\"enter the n:\"))\n",
        "for i in range(0,num):\n",
        "   x=int(input(\"enter x \\n\"))\n",
        "   y=int(input(\"enter y \\n\"))\n",
        "   mylist.append(x)\n",
        "   mylist1.append(y)\n",
        "P=(3,-4)\n",
        "S=[(mylist,mylist1) for (mylist1,mylist) in zip(mylist1,mylist)]\n",
        "print(S)\n",
        "S.sort(key=lambda x: math.sqrt((float(x[0]) - P[0]) ** 2 +(float(x[1]) - (P[1])) ** 2))\n",
        "print(S[:5])"
      ],
      "execution_count": 0,
      "outputs": [
        {
          "output_type": "stream",
          "text": [
            "enter the n: 9\n",
            "enter x \n",
            " 1\n",
            "enter y \n",
            " 2\n",
            "enter x \n",
            " 3\n",
            "enter y \n",
            " 4\n",
            "enter x \n",
            " -1\n",
            "enter y \n",
            " 1\n",
            "enter x \n",
            " 6\n",
            "enter y \n",
            " -7\n",
            "enter x \n",
            " 0\n",
            "enter y \n",
            " 6\n",
            "enter x \n",
            " -5\n",
            "enter y \n",
            " -8\n",
            "enter x \n",
            " -1\n",
            "enter y \n",
            " -1\n",
            "enter x \n",
            " 6\n",
            "enter y \n",
            " 0\n",
            "enter x \n",
            " 1\n",
            "enter y \n",
            " -1\n"
          ],
          "name": "stdin"
        },
        {
          "output_type": "stream",
          "text": [
            "[(1, 2), (3, 4), (-1, 1), (6, -7), (0, 6), (-5, -8), (-1, -1), (6, 0), (1, -1)]\n",
            "[(1, -1), (6, -7), (-1, -1), (6, 0), (1, 2)]\n"
          ],
          "name": "stdout"
        }
      ]
    },
    {
      "cell_type": "markdown",
      "metadata": {
        "id": "QwHNFDtBXviV",
        "colab_type": "text"
      },
      "source": [
        "<h3> Q6: Find which line separates oranges and apples</h3>\n",
        "\n",
        "Consider you are given two set of data points in the form of list of tuples like \n",
        "<pre>\n",
        "Red =[(R11,R12),(R21,R22),(R31,R32),(R41,R42),(R51,R52),..,(Rn1,Rn2)]\n",
        "Blue=[(B11,B12),(B21,B22),(B31,B32),(B41,B42),(B51,B52),..,(Bm1,Bm2)]\n",
        "</pre>\n",
        "and set of line equations(in the string format, i.e list of strings)\n",
        "<pre>\n",
        "Lines = [a1x+b1y+c1,a2x+b2y+c2,a3x+b3y+c3,a4x+b4y+c4,..,K lines]\n",
        "Note: You need to do string parsing here and get the coefficients of x,y and intercept.\n",
        "</pre>\n",
        "Your task here is to print \"YES\"/\"NO\" for each line given. You should print YES, if all the red points are one side of the line and blue points are on other side of the line, otherwise you should print NO.\n",
        "<pre>\n",
        "Ex:\n",
        "Red= [(1,1),(2,1),(4,2),(2,4), (-1,4)]\n",
        "Blue= [(-2,-1),(-1,-2),(-3,-2),(-3,-1),(1,-3)]\n",
        "Lines=[\"1x+1y+0\",\"1x-1y+0\",\"1x+0y-3\",\"0x+1y-0.5\"]\n",
        "<img src='https://i.imgur.com/DoQf7mE.jpg' width=400>\n",
        "Output:\n",
        "YES\n",
        "NO\n",
        "NO\n",
        "YES\n",
        "</pre>"
      ]
    },
    {
      "cell_type": "code",
      "metadata": {
        "id": "KR7yRizGXviV",
        "colab_type": "code",
        "colab": {},
        "outputId": "08147d66-87e1-4758-914a-017d19fcd7fb"
      },
      "source": [
        "import math\n",
        "# write your python code here\n",
        "# you can take the above example as sample input for your program to test\n",
        "# it should work for any general input try not to hard code for only given input strings\n",
        "import re\n",
        "# Red= [(1,1),(2,1),(4,2),(2,4), (-1,4)]\n",
        "# Blue= [(-2,-1),(-1,-2),(-3,-2),(-3,-1),(1,-3)]\n",
        "mylist=[]\n",
        "mylist1=[]\n",
        "num=int(input(\"enter the n:\"))\n",
        "for i in range(0,num):\n",
        "   x=int(input(\"enter x for Red\\n\"))\n",
        "   y=int(input(\"enter y for Red\\n\"))\n",
        "   mylist.append(x)\n",
        "   mylist1.append(y)\n",
        "Red=[(mylist,mylist1) for (mylist1,mylist) in zip(mylist1,mylist)]\n",
        "mylist.clear()\n",
        "mylist1.clear()\n",
        "for i in range(0,num):\n",
        "   x=int(input(\"enter x for Blue\\n\"))\n",
        "   y=int(input(\"enter y for Blue \\n\"))\n",
        "   mylist.append(x)\n",
        "   mylist1.append(y)\n",
        "Blue=[(mylist,mylist1) for (mylist1,mylist) in zip(mylist1,mylist)]\n",
        "Lines=[\"1x+1y+0\",\"1x-1y+0\",\"1x+0y-3\"]\n",
        "count=0\n",
        "count1=0\n",
        "for i in Lines:\n",
        "   z = re.findall(r'[\\d\\.\\-\\+]+', i)\n",
        "   r=[float(s) for s in re.findall('[\\d\\.\\d]+',i)]\n",
        "   for j in range(len(r)):\n",
        "#       print(r[i])\n",
        "      z[j]=float(z[j])\n",
        "      sq=math.sqrt((r[0]*r[0])+(r[1]*r[1]))\n",
        "      sq=round(dn,1)\n",
        "#       print(dn)\n",
        "   for k in range(len(Red)):\n",
        "      for l in range(0,2):\n",
        "         nn=(z[0]*Red[k][0]+z[1]*Red[k][1]+z[2])\n",
        "         a=nn/sq\n",
        "         if(a>0):\n",
        "            count=count+1\n",
        "         else:\n",
        "            count=count-1\n",
        "   for m in range(len(Blue)):\n",
        "      for n in range(0,2):\n",
        "         nn1=(z[0]*Blue[m][0]+z[1]*Blue[m][1]+z[2])\n",
        "         a1=nn1/sq\n",
        "         if(a1>0):\n",
        "            count1=count1+1\n",
        "         else:\n",
        "            count1=count1-1\n",
        "   if(abs(count1)==count):\n",
        "      print(\"Yes\")\n",
        "   else:\n",
        "      print(\"No\")"
      ],
      "execution_count": 0,
      "outputs": [
        {
          "output_type": "stream",
          "text": [
            "enter the n: 3\n",
            "enter x for Red\n",
            " 2\n",
            "enter y for Red\n",
            " 3\n",
            "enter x for Red\n",
            " 4\n",
            "enter y for Red\n",
            " 2\n",
            "enter x for Red\n",
            " 5\n",
            "enter y for Red\n",
            " 6\n",
            "enter x for Blue\n",
            " 7\n",
            "enter y for Blue \n",
            " 5\n",
            "enter x for Blue\n",
            " 7\n",
            "enter y for Blue \n",
            " 6\n",
            "enter x for Blue\n",
            " 8\n",
            "enter y for Blue \n",
            " 4\n"
          ],
          "name": "stdin"
        },
        {
          "output_type": "stream",
          "text": [
            "Yes\n",
            "No\n",
            "No\n"
          ],
          "name": "stdout"
        }
      ]
    },
    {
      "cell_type": "markdown",
      "metadata": {
        "id": "73imHiKRXviX",
        "colab_type": "text"
      },
      "source": [
        "<h3> Q7: Filling the missing values in the specified format</h3>\n",
        "\n",
        "You will be given a string with digits and '\\_'(missing value) symbols you have to replace the '\\_' symbols as explained \n",
        "\n",
        "<pre>\n",
        "Ex 1: _, _, _, 24 ==> 24/4, 24/4, 24/4, 24/4 i.e we. have distributed the 24 equally to all 4 places <br>\n",
        "Ex 2: 40, _, _, _, 60 ==> (60+40)/5,(60+40)/5,(60+40)/5,(60+40)/5,(60+40)/5 ==> 20, 20, 20, 20, 20 i.e. the sum of (60+40) is distributed qually to all 5 places<br>\n",
        "Ex 3: 80, _, _, _, _  ==> 80/5,80/5,80/5,80/5,80/5 ==> 16, 16, 16, 16, 16 i.e. the 80 is distributed qually to all 5 missing values that are right to it<br>\n",
        "Ex 4: _, _, 30, _, _, _, 50, _, _  \n",
        "==> we will fill the missing values from left to right \n",
        "    a. first we will distribute the 30 to left two missing values (10, 10, 10, _, _, _, 50, _, _)\n",
        "    b. now distribute the sum (10+50) missing values in between (10, 10, 12, 12, 12, 12, 12, _, _) \n",
        "    c. now we will distribute 12 to right side missing values (10, 10, 12, 12, 12, 12, 4, 4, 4)\n",
        "</pre>\n",
        "for a given string with comma seprate values, which will have both missing values numbers like ex: \"_, _, x, _, _, _\"\n",
        "you need fill the missing values\n",
        "\n",
        "Q: your program reads a string like ex: \"_, _, x, _, _, _\" and returns the filled sequence\n",
        "\n",
        "Ex: \n",
        "<pre>\n",
        "Input1: \"_,_,_,24\"\n",
        "Output1: 6,6,6,6\n",
        "\n",
        "Input2: \"40,_,_,_,60\"\n",
        "Output2: 20,20,20,20,20\n",
        "\n",
        "Input3: \"80,_,_,_,_\"\n",
        "Output3: 16,16,16,16,16\n",
        "\n",
        "Input4: \"_,_,30,_,_,_,50,_,_\"\n",
        "Output4: 10,10,12,12,12,12,4,4,4\n",
        "</pre>\n",
        "\n"
      ]
    },
    {
      "cell_type": "code",
      "metadata": {
        "id": "cVkBUby0XviY",
        "colab_type": "code",
        "colab": {},
        "outputId": "4f0709ea-e3ad-4b7d-cfca-fc821efa782e"
      },
      "source": [
        "# write your python code here\n",
        "# you can take the above example as sample input for your program to test\n",
        "# it should work for any general input try not to hard code for only given input strings\n",
        "def job(x, a, b):\n",
        "    if a == -1:\n",
        "        v = float(x[b])/(b+1)\n",
        "        for i in range(a+1,b+1):\n",
        "            x[i] = v\n",
        "    elif b == -1:\n",
        "        v = float(x[a])/(len(x)-a)\n",
        "        for i in range(a, len(x)):\n",
        "            x[i] = v\n",
        "    else:\n",
        "        v = (float(x[a])+float(x[b]))/(b-a+1)\n",
        "        for i in range(a,b+1):\n",
        "            x[i] = v\n",
        "    return x\n",
        "def curve_smoothing(text):\n",
        "    x = text.replace(\" \",\"\").split(\",\")\n",
        "    y = [i for i, v in enumerate(x) if v != '_']\n",
        "    if y[0] != 0:\n",
        "        y = [-1] + y\n",
        "    if y[-1] != len(x)-1:\n",
        "        y = y + [-1]    \n",
        "    for (a, b) in zip(y[:-1], y[1:]): \n",
        "        job(x,a,b)          \n",
        "    return x\n",
        "str=input(\"input string\")\n",
        "a=curve_smoothing(str)\n",
        "print(a)"
      ],
      "execution_count": 0,
      "outputs": [
        {
          "output_type": "stream",
          "text": [
            "input string _,_,30,_,_,_,50,_,_\n"
          ],
          "name": "stdin"
        },
        {
          "output_type": "stream",
          "text": [
            "[10.0, 10.0, 12.0, 12.0, 12.0, 12.0, 4.0, 4.0, 4.0]\n"
          ],
          "name": "stdout"
        }
      ]
    },
    {
      "cell_type": "markdown",
      "metadata": {
        "id": "QPUgzLRaXvia",
        "colab_type": "text"
      },
      "source": [
        "<h3> Q8: Find the probabilities</h3>\n",
        "\n",
        "You will be given a list of lists, each sublist will be of length 2 i.e. [[x,y],[p,q],[l,m]..[r,s]]\n",
        "consider its like a martrix of n rows and two columns\n",
        "1. The first column F will contain only 5 uniques values (F1, F2, F3, F4, F5)\n",
        "2. The second column S will contain only 3 uniques values (S1, S2, S3)\n",
        "<pre>\n",
        "your task is to find\n",
        "a. Probability of P(F=F1|S==S1), P(F=F1|S==S2), P(F=F1|S==S3)\n",
        "b. Probability of P(F=F2|S==S1), P(F=F2|S==S2), P(F=F2|S==S3)\n",
        "c. Probability of P(F=F3|S==S1), P(F=F3|S==S2), P(F=F3|S==S3)\n",
        "d. Probability of P(F=F4|S==S1), P(F=F4|S==S2), P(F=F4|S==S3)\n",
        "e. Probability of P(F=F5|S==S1), P(F=F5|S==S2), P(F=F5|S==S3)\n",
        "</pre>\n",
        "Ex:\n",
        "\n",
        "<pre>\n",
        "[[F1,S1],[F2,S2],[F3,S3],[F1,S2],[F2,S3],[F3,S2],[F2,S1],[F4,S1],[F4,S3],[F5,S1]]\n",
        "\n",
        "a. P(F=F1|S==S1)=1/4, P(F=F1|S==S2)=1/3, P(F=F1|S==S3)=0/3\n",
        "b. P(F=F2|S==S1)=1/4, P(F=F2|S==S2)=1/3, P(F=F2|S==S3)=1/3\n",
        "c. P(F=F3|S==S1)=0/4, P(F=F3|S==S2)=1/3, P(F=F3|S==S3)=1/3\n",
        "d. P(F=F4|S==S1)=1/4, P(F=F4|S==S2)=0/3, P(F=F4|S==S3)=1/3\n",
        "e. P(F=F5|S==S1)=1/4, P(F=F5|S==S2)=0/3, P(F=F5|S==S3)=0/3\n",
        "</pre>\n",
        "\n"
      ]
    },
    {
      "cell_type": "code",
      "metadata": {
        "id": "Mpz5OGZsXvia",
        "colab_type": "code",
        "colab": {},
        "outputId": "21059dfe-7a70-4466-dc5f-f49f52045384"
      },
      "source": [
        "# write your python code here\n",
        "# you can take the above example as sample input for your program to test\n",
        "# it should work for any general input try not to hard code for only given input strings\n",
        "allRow = []\n",
        "SecondColoumn = []\n",
        "def compute_conditional_probabilites(A):\n",
        "   for i in range(len(A)):\n",
        "      k = A[i][0]+A[i][1]\n",
        "      SecondColoumn.append(A[i][1])\n",
        "      allRow.append(k)\n",
        "\n",
        "A = [['F1','S1'],['F2','S2'],['F3','S3'],['F1','S2'],['F2','S3'],['F3','S2'],['F2','S1'],['F4','S1'],['F4','S3'],['F5','S1']]\n",
        "compute_conditional_probabilites(A)\n",
        "print(SecondColoumn)\n",
        "print(allRow)\n",
        "num=input(\"enter string to find probabilty\")\n",
        "ext=num[2:]\n",
        "print(\"probabilty will be {}/{}\".format(allRow.count(num),SecondColoumn.count(ext)))"
      ],
      "execution_count": 0,
      "outputs": [
        {
          "output_type": "stream",
          "text": [
            "['S1', 'S2', 'S3', 'S2', 'S3', 'S2', 'S1', 'S1', 'S3', 'S1']\n",
            "['F1S1', 'F2S2', 'F3S3', 'F1S2', 'F2S3', 'F3S2', 'F2S1', 'F4S1', 'F4S3', 'F5S1']\n"
          ],
          "name": "stdout"
        },
        {
          "output_type": "stream",
          "text": [
            "enter string to find probabilty F1S1\n"
          ],
          "name": "stdin"
        },
        {
          "output_type": "stream",
          "text": [
            "probabilty will be 1/4\n"
          ],
          "name": "stdout"
        }
      ]
    },
    {
      "cell_type": "markdown",
      "metadata": {
        "id": "8hQsWcjiXvic",
        "colab_type": "text"
      },
      "source": [
        "<h3> Q9: Operations on sentences </h3>\n",
        "\n",
        "You will be given two sentances S1, S2 your task is to find \n",
        "<pre>\n",
        "a. Number of common words between S1, S2\n",
        "b. Words in S1 but not in S2\n",
        "c. Words in S2 but not in S1\n",
        "</pre>\n",
        "\n",
        "Ex: \n",
        "<pre>\n",
        "S1= \"the first column F will contain only 5 unique values\"\n",
        "S2= \"the second column S will contain only 3 unique values\"\n",
        "Output:\n",
        "a. 7\n",
        "b. ['first','F','5']\n",
        "c. ['second','S','3']\n",
        "</pre>"
      ]
    },
    {
      "cell_type": "code",
      "metadata": {
        "id": "f1k_Q0O1Xvid",
        "colab_type": "code",
        "colab": {},
        "outputId": "eb80dbc2-d936-440f-d216-ffdaeeb8b38a"
      },
      "source": [
        "# write your python code here\n",
        "# you can take the above example as sample input for your program to test\n",
        "# it should work for any general input try not to hard code for only given input strings\n",
        "\n",
        "# you can free to change all these codes/structure\n",
        "def string_features(S1, S2):\n",
        "   a=0\n",
        "   dict1={}\n",
        "   dict2={}\n",
        "   for word in S1.split():\n",
        "      for words in S2.split():\n",
        "         if word==words:\n",
        "            a+=1\n",
        "\n",
        "   for word in S1.split():\n",
        "      dict1[word] = dict1.get(word, 0) + 1\n",
        "      for words in S2.split():\n",
        "         dict1[words] = dict1.get(words, 0) + 1\n",
        "   b= ([word for word in dict1 if dict1[word] == 1])\n",
        "\n",
        "   for word in S2.split():\n",
        "      dict2[word] = dict2.get(word, 0) + 1\n",
        "      for words in S1.split():\n",
        "         dict2[words] = dict2.get(words, 0) + 1\n",
        "   c=([word for word in dict2 if dict2[word] == 1])\n",
        "   return a, b, c\n",
        "\n",
        "# S1= \"the first column F will contain only 5 uniques values\"\n",
        "# S2= \"the second column S will contain only 3 uniques values\"\n",
        "S1=input(\"enter 1st String\")\n",
        "S2=input(\"enter 2nd String\")\n",
        "a,b,c = string_features(S1, S2)\n",
        "print(\"Number of common words between S1, S2 :\", a)\n",
        "print(\"Words in S1 but not in S2 :\",b)\n",
        "print(\"Words in S2 but not in S1 :\",c)"
      ],
      "execution_count": 0,
      "outputs": [
        {
          "output_type": "stream",
          "text": [
            "enter 1st String the first column F will contain only 5 uniques values\n",
            "enter 2nd String the second column S will contain only 3 uniques values\n"
          ],
          "name": "stdin"
        },
        {
          "output_type": "stream",
          "text": [
            "Number of common words between S1, S2 : 7\n",
            "Words in S1 but not in S2 : ['first', 'F', '5']\n",
            "Words in S2 but not in S1 : ['second', 'S', '3']\n"
          ],
          "name": "stdout"
        }
      ]
    },
    {
      "cell_type": "markdown",
      "metadata": {
        "id": "R7cSwk_WXvig",
        "colab_type": "text"
      },
      "source": [
        "<h3> Q10: Error Function</h3>\n",
        "\n",
        "You will be given a list of lists, each sublist will be of length 2 i.e. [[x,y],[p,q],[l,m]..[r,s]]\n",
        "consider its like a martrix of n rows and two columns\n",
        "\n",
        "a. the first column Y will contain interger values <br>\n",
        "b. the second column $Y_{score}$ will be having float values <br>\n",
        "Your task is to find the value of $f(Y,Y_{score}) = -1*\\frac{1}{n}\\Sigma_{for each Y,Y_{score} pair}(Ylog10(Y_{score})+(1-Y)log10(1-Y_{score}))$ here n is the number of rows in the matrix\n",
        "<pre>\n",
        "Ex:\n",
        "[[1, 0.4], [0, 0.5], [0, 0.9], [0, 0.3], [0, 0.6], [1, 0.1], [1, 0.9], [1, 0.8]]\n",
        "output:\n",
        "0.44982\n",
        "</pre>\n",
        "$\\frac{-1}{8}\\cdot((1\\cdot log_{10}(0.4)+0\\cdot log_{10}(0.6))+(0\\cdot log_{10}(0.5)+1\\cdot log_{10}(0.5)) + ... + (1\\cdot log_{10}(0.8)+0\\cdot log_{10}(0.2)) )$"
      ]
    },
    {
      "cell_type": "code",
      "metadata": {
        "id": "GLZN-sYkXvih",
        "colab_type": "code",
        "colab": {},
        "outputId": "9cc2aa16-d0d4-4bab-fbb9-12c3c813291a"
      },
      "source": [
        "\n",
        "# you can take the above example as sample input for your program to test\n",
        "# it should work for any general input try not to hard code for only given input strings\n",
        "from math import log\n",
        "\n",
        "# you can free to change all these codes/structure\n",
        "def compute_log_loss(x,y):\n",
        "   \n",
        "   return -(1.0/len(x))*sum([x[i]*log(y[i],10) +(1.0-x[i])*log(1.0-y[i],10)for i in range(len(x))])\n",
        "                           \n",
        "# A = [[1, 0.4], [0, 0.5], [0, 0.9], [0, 0.3], [0, 0.6], [1, 0.1], [1, 0.9], [1, 0.8]]\n",
        "\n",
        "X=[]\n",
        "Y=[]\n",
        "n=int(input(\"enter the n:\"))\n",
        "for i in range(0,n):\n",
        "   num1=int(input(\"enter x value\"))\n",
        "   num2=float(input(\"enter y value\"))\n",
        "   X.append(num1)\n",
        "   Y.append(num2)\n",
        "loss = compute_log_loss(X,Y)\n",
        "print(loss)"
      ],
      "execution_count": 0,
      "outputs": [
        {
          "output_type": "stream",
          "text": [
            "enter the n: 8\n",
            "enter x value 1\n",
            "enter y value 0.4\n",
            "enter x value 0\n",
            "enter y value 0.5\n",
            "enter x value 0\n",
            "enter y value 0.9\n",
            "enter x value 0\n",
            "enter y value 0.3\n",
            "enter x value 0\n",
            "enter y value 0.6\n",
            "enter x value 1\n",
            "enter y value 0.1\n",
            "enter x value 1\n",
            "enter y value 0.9\n",
            "enter x value 1\n",
            "enter y value 0.8\n"
          ],
          "name": "stdin"
        },
        {
          "output_type": "stream",
          "text": [
            "0.42430993457031635\n"
          ],
          "name": "stdout"
        }
      ]
    }
  ]
}